{
 "cells": [
  {
   "cell_type": "markdown",
   "metadata": {
    "collapsed": true
   },
   "source": [
    "## Alumno: Velázquez Gómez Ismael"
   ]
  },
  {
   "cell_type": "markdown",
   "metadata": {},
   "source": [
    "### 1.-\n",
    "Se tiene un oscilador armónico en dos dimensiones ($xy$) el que la fuerza esta dado por $\\vec{F}=-k\\vec{r}$ y se tiene una fricción $\\vec{f_{fric}}=-\\gamma \\vec{v}$ si $|\\vec{v}|<1$, pero cuando $|\\vec{v}|>1$ la fricción es $\\vec{f_{fricc}}=-\\mu v^{3/2}\\hat{v}$. Si $m=1$, $\\gamma=0.1$ y $\\mu=0.2$, resuelva los siguientes ejercicios:\n",
    "\n",
    "$(a)$ Encuentre las ecuaciones de movimiento en coordenadas cartesianas y polares.\n",
    "\n",
    "$(b)$ Utilice el método de Runge-Kutta de 4to orden para encontrar la solución a las ecuaciones de\n",
    "movimiento en el inciso anterior con condiciones iniciales $\\vec{r_0}=(0,1)$ y $\\vec{r_0}=(cos\\theta,sin\\theta)$, donde $\\theta=\\frac{n\\pi}{6}$ con $n=0,1,2,3,...,10,11$.\n",
    "\n",
    "$(c)$ La energía para las distintas condiciones iniciales y detenga la simulación cuando ésta sea menor al $1\\%$ de su valor inicial.\n",
    "\n",
    "$(d)$ Dibuje las gráficas del momento angular para los casos anteirores.\n",
    "\n",
    "$(e)$ Tome de manera arbitraria alguna condici ́on inicial y dibuje el espacio fase $(p_x,x)$ y $(p_\\rho,\\rho)$"
   ]
  },
  {
   "cell_type": "code",
   "execution_count": null,
   "metadata": {
    "collapsed": true
   },
   "outputs": [],
   "source": []
  },
  {
   "cell_type": "markdown",
   "metadata": {},
   "source": [
    "### 2.-\n",
    "\n",
    "Suponga que se tiene el sistema como en el problema anterior, pero ahora la partícula tiene carga $q > 0$ y en el origen también se encuentra una partícula de carga $q > 0$.\n",
    "\n"
   ]
  },
  {
   "cell_type": "markdown",
   "metadata": {},
   "source": [
    "$(a)$ Sin considerar la fricción, ¿El sistema puede tener órbitas cerradas?. De ser así, encuentre algunas de estas órbitas o muestre que el sistema no puede tener este tipo de órbitas. (Apoye sus argumentos con alguna simulación).\n",
    "\n",
    "$(b)$ Considerando friccion, ¿El sistema puede tener órbitas cerradas?. De ser así, encuentre algunas de estas órbitas o muestre que el sistema no puede tener este tipo de órbitas. (Apoye sus argumentos con alguna simulación).\n",
    "\n"
   ]
  },
  {
   "cell_type": "code",
   "execution_count": null,
   "metadata": {
    "collapsed": true
   },
   "outputs": [],
   "source": []
  },
  {
   "cell_type": "markdown",
   "metadata": {},
   "source": [
    "### 3.-\n",
    "Se tiene una partícula de masa $m = 1$ en un campo gravitacional$\\vec{g} = −9.8\\hat{j}$ en una caja como se con $L=10m$ y $d=3m$. Realice los ejercicios con valores de $\\alpha=\\frac{\\pi}{6}$ y $\\alpha=\\frac{\\pi}{10}$.\n",
    "\n",
    "$(a)$ Realice una simulación con condición inicial tal que la posición inicial es sobre la rampa a un\n",
    "tercio de la distancia de la pared vertical izquierda y el vértice inferior de la caja, y se dispara\n",
    "con velocidad $|\\vec{v}| = 1$ hacia la derecha con ángulos sobre la horizontal $\\alpha$, $2\\alpha$ y $3\\alpha$. (Para que la simulación sea válida, la partícula debe rebotar al menos 20 con alguna parte de la caja).\n",
    "\n",
    "$(b)$ Introduzca algún modelo de fricción y compare las trayectorias con el inciso anterior.\n",
    "\n",
    "$(c)$ Dibuje el espacio fase $p_x$,$x$ y $p_y$,$y$ cuando no hay fricción y la partícula es lanzada hacia la derecha a un ángulo $\\alpha$ y vertical hacia arriba. Tome en cuenta el nuúmero necesario de rebotes para que la simulación pueda barrer el espacio fase de manera representativa."
   ]
  },
  {
   "cell_type": "code",
   "execution_count": null,
   "metadata": {
    "collapsed": true
   },
   "outputs": [],
   "source": []
  },
  {
   "cell_type": "markdown",
   "metadata": {},
   "source": [
    "### 4.-\n",
    "\n",
    "\n",
    "Se tiene una partícula de masa $m = 1$ en una caja circular. Los radios de $a$ y $b$ son tales que $b = 2a$.\n",
    "\n",
    "$(a)$ Realice una simulación en donde la partícula realiza varios rebotes en las paredes de la caja.\n",
    "Suponga condiciones iniciales arbitrarias que le permitan hacer lo anterior.\n",
    "\n",
    "$(b)$ ¿Existen condiciones iniciales que hagan que la partícula quede encasillada en sólo un sector de la caja?. De ser así muestre cuales son tales condiciones o demuestre porque no se pueden obtener dicha situación.\n",
    "\n",
    "$(c)$ Si ahora se tiene un campo gravitacional uniforme $\\vec{g} = 10\\hat{n}$. Que condiciones iniciales se tendrían que cumplir para que la partícula sólo pueda ocupar la mitad de la dona."
   ]
  },
  {
   "cell_type": "code",
   "execution_count": null,
   "metadata": {
    "collapsed": true
   },
   "outputs": [],
   "source": []
  }
 ],
 "metadata": {
  "anaconda-cloud": {},
  "kernelspec": {
   "display_name": "Python [Root]",
   "language": "python",
   "name": "Python [Root]"
  },
  "language_info": {
   "codemirror_mode": {
    "name": "ipython",
    "version": 2
   },
   "file_extension": ".py",
   "mimetype": "text/x-python",
   "name": "python",
   "nbconvert_exporter": "python",
   "pygments_lexer": "ipython2",
   "version": "2.7.12"
  }
 },
 "nbformat": 4,
 "nbformat_minor": 0
}
